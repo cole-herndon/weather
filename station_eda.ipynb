{
 "cells": [
  {
   "cell_type": "code",
   "execution_count": 1,
   "metadata": {},
   "outputs": [],
   "source": [
    "import pandas as pd"
   ]
  },
  {
   "cell_type": "code",
   "execution_count": 3,
   "metadata": {},
   "outputs": [
    {
     "name": "stderr",
     "output_type": "stream",
     "text": [
      "/var/folders/q0/5h71wsh14456zf5w2g9pnl840000gn/T/ipykernel_46449/514675463.py:1: DtypeWarning: Columns (7,9,11,13,17,21,29,31,33,35,37,39,41,43,45,47,49,51,53) have mixed types. Specify dtype option on import or set low_memory=False.\n",
      "  df = pd.read_csv('historical_data/raw_hist_data.csv')\n"
     ]
    }
   ],
   "source": [
    "df = pd.read_csv('historical_data/raw_hist_data.csv')"
   ]
  },
  {
   "cell_type": "code",
   "execution_count": 4,
   "metadata": {},
   "outputs": [],
   "source": [
    "station_dfs = {station_id: df[df['STATION'] == station_id] for station_id in df['STATION'].unique()}"
   ]
  },
  {
   "cell_type": "code",
   "execution_count": 5,
   "metadata": {},
   "outputs": [],
   "source": [
    "def clean_data(df):\n",
    "    # Drop columns with over 90% missing values\n",
    "    threshold = len(df) * 0.9\n",
    "    df = df.dropna(thresh=threshold, axis=1)\n",
    "    # Separate year, month, and day from the DATE column\n",
    "    df[['Year', 'Month', 'Day']] = df['DATE'].str.split('-', expand=True)\n",
    "    # Convert DATE column to datetime\n",
    "    df['DATE'] = pd.to_datetime(df['DATE'])\n",
    "    # Convert elevation from meters to feet and round to the nearest foot\n",
    "    df['ELEVATION'] = (df['ELEVATION'] * 3.28084).round()\n",
    "    return df"
   ]
  },
  {
   "cell_type": "code",
   "execution_count": 6,
   "metadata": {},
   "outputs": [
    {
     "name": "stderr",
     "output_type": "stream",
     "text": [
      "/var/folders/q0/5h71wsh14456zf5w2g9pnl840000gn/T/ipykernel_46449/1869043968.py:6: SettingWithCopyWarning: \n",
      "A value is trying to be set on a copy of a slice from a DataFrame.\n",
      "Try using .loc[row_indexer,col_indexer] = value instead\n",
      "\n",
      "See the caveats in the documentation: https://pandas.pydata.org/pandas-docs/stable/user_guide/indexing.html#returning-a-view-versus-a-copy\n",
      "  df[['Year', 'Month', 'Day']] = df['DATE'].str.split('-', expand=True)\n",
      "/var/folders/q0/5h71wsh14456zf5w2g9pnl840000gn/T/ipykernel_46449/1869043968.py:6: SettingWithCopyWarning: \n",
      "A value is trying to be set on a copy of a slice from a DataFrame.\n",
      "Try using .loc[row_indexer,col_indexer] = value instead\n",
      "\n",
      "See the caveats in the documentation: https://pandas.pydata.org/pandas-docs/stable/user_guide/indexing.html#returning-a-view-versus-a-copy\n",
      "  df[['Year', 'Month', 'Day']] = df['DATE'].str.split('-', expand=True)\n",
      "/var/folders/q0/5h71wsh14456zf5w2g9pnl840000gn/T/ipykernel_46449/1869043968.py:6: SettingWithCopyWarning: \n",
      "A value is trying to be set on a copy of a slice from a DataFrame.\n",
      "Try using .loc[row_indexer,col_indexer] = value instead\n",
      "\n",
      "See the caveats in the documentation: https://pandas.pydata.org/pandas-docs/stable/user_guide/indexing.html#returning-a-view-versus-a-copy\n",
      "  df[['Year', 'Month', 'Day']] = df['DATE'].str.split('-', expand=True)\n",
      "/var/folders/q0/5h71wsh14456zf5w2g9pnl840000gn/T/ipykernel_46449/1869043968.py:8: SettingWithCopyWarning: \n",
      "A value is trying to be set on a copy of a slice from a DataFrame.\n",
      "Try using .loc[row_indexer,col_indexer] = value instead\n",
      "\n",
      "See the caveats in the documentation: https://pandas.pydata.org/pandas-docs/stable/user_guide/indexing.html#returning-a-view-versus-a-copy\n",
      "  df['DATE'] = pd.to_datetime(df['DATE'])\n",
      "/var/folders/q0/5h71wsh14456zf5w2g9pnl840000gn/T/ipykernel_46449/1869043968.py:10: SettingWithCopyWarning: \n",
      "A value is trying to be set on a copy of a slice from a DataFrame.\n",
      "Try using .loc[row_indexer,col_indexer] = value instead\n",
      "\n",
      "See the caveats in the documentation: https://pandas.pydata.org/pandas-docs/stable/user_guide/indexing.html#returning-a-view-versus-a-copy\n",
      "  df['ELEVATION'] = (df['ELEVATION'] * 3.28084).round()\n"
     ]
    }
   ],
   "source": [
    "cleaned_df = clean_data(df)"
   ]
  },
  {
   "cell_type": "code",
   "execution_count": 7,
   "metadata": {},
   "outputs": [
    {
     "data": {
      "text/plain": [
       "NAME\n",
       "SNOWBIRD, UT US                9640.0\n",
       "BRIGHTON, UT US                8750.0\n",
       "SILVER LAKE BRIGHTON, UT US    8740.0\n",
       "ALTA, UT US                    8710.0\n",
       "Name: ELEVATION, dtype: float64"
      ]
     },
     "execution_count": 7,
     "metadata": {},
     "output_type": "execute_result"
    }
   ],
   "source": [
    "cleaned_df.groupby('NAME')['ELEVATION'].max().sort_values(ascending=False)"
   ]
  },
  {
   "cell_type": "code",
   "execution_count": null,
   "metadata": {},
   "outputs": [],
   "source": [
    "# Loop through the dictionary, clean, and save to CSV\n",
    "for station, df in station_dfs.items():\n",
    "    cleaned_df = clean_data(df)  # Apply cleaning function\n",
    "    cleaned_df.to_csv(f\"historical_data/{station}_cleaned.csv\", index=False)  # Save to CSV\n"
   ]
  },
  {
   "cell_type": "code",
   "execution_count": 11,
   "metadata": {},
   "outputs": [],
   "source": [
    "url = \"https://raw.githubusercontent.com/cole-herndon/weather/refs/heads/main/historical_data/raw_hist_data.csv\""
   ]
  },
  {
   "cell_type": "code",
   "execution_count": null,
   "metadata": {},
   "outputs": [
    {
     "name": "stderr",
     "output_type": "stream",
     "text": [
      "/var/folders/q0/5h71wsh14456zf5w2g9pnl840000gn/T/ipykernel_48938/1726005393.py:1: DtypeWarning: Columns (7,9,11,13,17,21,29,31,33,35,37,39,41,43,45,47,49,51,53) have mixed types. Specify dtype option on import or set low_memory=False.\n",
      "  test_df = pd.read_csv(url)\n"
     ]
    }
   ],
   "source": [
    "test_df = pd.read_csv(url)"
   ]
  },
  {
   "cell_type": "code",
   "execution_count": 13,
   "metadata": {},
   "outputs": [
    {
     "data": {
      "application/vnd.microsoft.datawrangler.viewer.v0+json": {
       "columns": [
        {
         "name": "index",
         "rawType": "int64",
         "type": "integer"
        },
        {
         "name": "STATION",
         "rawType": "object",
         "type": "string"
        },
        {
         "name": "NAME",
         "rawType": "object",
         "type": "string"
        },
        {
         "name": "LATITUDE",
         "rawType": "float64",
         "type": "float"
        },
        {
         "name": "LONGITUDE",
         "rawType": "float64",
         "type": "float"
        },
        {
         "name": "ELEVATION",
         "rawType": "float64",
         "type": "float"
        },
        {
         "name": "DATE",
         "rawType": "object",
         "type": "string"
        },
        {
         "name": "DAPR",
         "rawType": "float64",
         "type": "float"
        },
        {
         "name": "DAPR_ATTRIBUTES",
         "rawType": "object",
         "type": "unknown"
        },
        {
         "name": "DASF",
         "rawType": "float64",
         "type": "float"
        },
        {
         "name": "DASF_ATTRIBUTES",
         "rawType": "object",
         "type": "unknown"
        },
        {
         "name": "MDPR",
         "rawType": "float64",
         "type": "float"
        },
        {
         "name": "MDPR_ATTRIBUTES",
         "rawType": "object",
         "type": "unknown"
        },
        {
         "name": "MDSF",
         "rawType": "float64",
         "type": "float"
        },
        {
         "name": "MDSF_ATTRIBUTES",
         "rawType": "object",
         "type": "unknown"
        },
        {
         "name": "PRCP",
         "rawType": "float64",
         "type": "float"
        },
        {
         "name": "PRCP_ATTRIBUTES",
         "rawType": "object",
         "type": "unknown"
        },
        {
         "name": "SNOW",
         "rawType": "float64",
         "type": "float"
        },
        {
         "name": "SNOW_ATTRIBUTES",
         "rawType": "object",
         "type": "unknown"
        },
        {
         "name": "SNWD",
         "rawType": "float64",
         "type": "float"
        },
        {
         "name": "SNWD_ATTRIBUTES",
         "rawType": "object",
         "type": "string"
        },
        {
         "name": "TAVG",
         "rawType": "float64",
         "type": "float"
        },
        {
         "name": "TAVG_ATTRIBUTES",
         "rawType": "object",
         "type": "unknown"
        },
        {
         "name": "TMAX",
         "rawType": "float64",
         "type": "float"
        },
        {
         "name": "TMAX_ATTRIBUTES",
         "rawType": "object",
         "type": "unknown"
        },
        {
         "name": "TMIN",
         "rawType": "float64",
         "type": "float"
        },
        {
         "name": "TMIN_ATTRIBUTES",
         "rawType": "object",
         "type": "unknown"
        },
        {
         "name": "TOBS",
         "rawType": "float64",
         "type": "float"
        },
        {
         "name": "TOBS_ATTRIBUTES",
         "rawType": "object",
         "type": "unknown"
        },
        {
         "name": "WESD",
         "rawType": "float64",
         "type": "float"
        },
        {
         "name": "WESD_ATTRIBUTES",
         "rawType": "object",
         "type": "unknown"
        },
        {
         "name": "WT01",
         "rawType": "float64",
         "type": "float"
        },
        {
         "name": "WT01_ATTRIBUTES",
         "rawType": "object",
         "type": "unknown"
        },
        {
         "name": "WT03",
         "rawType": "float64",
         "type": "float"
        },
        {
         "name": "WT03_ATTRIBUTES",
         "rawType": "object",
         "type": "unknown"
        },
        {
         "name": "WT04",
         "rawType": "float64",
         "type": "float"
        },
        {
         "name": "WT04_ATTRIBUTES",
         "rawType": "object",
         "type": "unknown"
        },
        {
         "name": "WT05",
         "rawType": "float64",
         "type": "float"
        },
        {
         "name": "WT05_ATTRIBUTES",
         "rawType": "object",
         "type": "unknown"
        },
        {
         "name": "WT06",
         "rawType": "float64",
         "type": "float"
        },
        {
         "name": "WT06_ATTRIBUTES",
         "rawType": "object",
         "type": "unknown"
        },
        {
         "name": "WT07",
         "rawType": "float64",
         "type": "float"
        },
        {
         "name": "WT07_ATTRIBUTES",
         "rawType": "object",
         "type": "unknown"
        },
        {
         "name": "WT08",
         "rawType": "float64",
         "type": "float"
        },
        {
         "name": "WT08_ATTRIBUTES",
         "rawType": "object",
         "type": "unknown"
        },
        {
         "name": "WT09",
         "rawType": "float64",
         "type": "float"
        },
        {
         "name": "WT09_ATTRIBUTES",
         "rawType": "object",
         "type": "unknown"
        },
        {
         "name": "WT11",
         "rawType": "float64",
         "type": "float"
        },
        {
         "name": "WT11_ATTRIBUTES",
         "rawType": "object",
         "type": "unknown"
        },
        {
         "name": "WT14",
         "rawType": "float64",
         "type": "float"
        },
        {
         "name": "WT14_ATTRIBUTES",
         "rawType": "object",
         "type": "unknown"
        },
        {
         "name": "WT16",
         "rawType": "float64",
         "type": "float"
        },
        {
         "name": "WT16_ATTRIBUTES",
         "rawType": "object",
         "type": "unknown"
        },
        {
         "name": "WT18",
         "rawType": "float64",
         "type": "float"
        },
        {
         "name": "WT18_ATTRIBUTES",
         "rawType": "object",
         "type": "unknown"
        }
       ],
       "conversionMethod": "pd.DataFrame",
       "ref": "31b18af5-b8b1-4a8a-b78b-b7f9a4c90f16",
       "rows": [
        [
         "0",
         "USC00420072",
         "ALTA, UT US",
         "40.59058",
         "-111.63703",
         "2654.8",
         "1905-03-17",
         null,
         null,
         null,
         null,
         null,
         null,
         null,
         null,
         "0.1",
         ",,6,",
         null,
         null,
         "22.0",
         ",,Z,",
         null,
         null,
         null,
         null,
         null,
         null,
         null,
         null,
         null,
         null,
         null,
         null,
         null,
         null,
         null,
         null,
         null,
         null,
         null,
         null,
         null,
         null,
         null,
         null,
         null,
         null,
         null,
         null,
         null,
         null,
         null,
         null,
         null,
         null
        ],
        [
         "1",
         "USC00420072",
         "ALTA, UT US",
         "40.59058",
         "-111.63703",
         "2654.8",
         "1905-03-18",
         null,
         null,
         null,
         null,
         null,
         null,
         null,
         null,
         "1.0",
         ",,6,",
         "9.0",
         ",,Z,",
         "31.0",
         ",,6,",
         null,
         null,
         null,
         null,
         null,
         null,
         null,
         null,
         null,
         null,
         null,
         null,
         null,
         null,
         null,
         null,
         null,
         null,
         null,
         null,
         null,
         null,
         null,
         null,
         null,
         null,
         null,
         null,
         null,
         null,
         null,
         null,
         null,
         null
        ],
        [
         "2",
         "USC00420072",
         "ALTA, UT US",
         "40.59058",
         "-111.63703",
         "2654.8",
         "1905-03-19",
         null,
         null,
         null,
         null,
         null,
         null,
         null,
         null,
         "1.4",
         ",,6,",
         "14.0",
         ",,6,",
         "45.0",
         ",,Z,",
         null,
         null,
         null,
         null,
         null,
         null,
         null,
         null,
         null,
         null,
         null,
         null,
         null,
         null,
         null,
         null,
         null,
         null,
         null,
         null,
         null,
         null,
         null,
         null,
         null,
         null,
         null,
         null,
         null,
         null,
         null,
         null,
         null,
         null
        ],
        [
         "3",
         "USC00420072",
         "ALTA, UT US",
         "40.59058",
         "-111.63703",
         "2654.8",
         "1905-03-20",
         null,
         null,
         null,
         null,
         null,
         null,
         null,
         null,
         null,
         null,
         "0.0",
         ",,6,",
         "40.0",
         ",,6,",
         null,
         null,
         null,
         null,
         null,
         null,
         null,
         null,
         null,
         null,
         null,
         null,
         null,
         null,
         null,
         null,
         null,
         null,
         null,
         null,
         null,
         null,
         null,
         null,
         null,
         null,
         null,
         null,
         null,
         null,
         null,
         null,
         null,
         null
        ],
        [
         "4",
         "USC00420072",
         "ALTA, UT US",
         "40.59058",
         "-111.63703",
         "2654.8",
         "1905-03-21",
         null,
         null,
         null,
         null,
         null,
         null,
         null,
         null,
         "0.6",
         ",,6,",
         "4.0",
         ",,6,",
         "42.0",
         ",,6,",
         null,
         null,
         null,
         null,
         null,
         null,
         null,
         null,
         null,
         null,
         null,
         null,
         null,
         null,
         null,
         null,
         null,
         null,
         null,
         null,
         null,
         null,
         null,
         null,
         null,
         null,
         null,
         null,
         null,
         null,
         null,
         null,
         null,
         null
        ]
       ],
       "shape": {
        "columns": 54,
        "rows": 5
       }
      },
      "text/html": [
       "<div>\n",
       "<style scoped>\n",
       "    .dataframe tbody tr th:only-of-type {\n",
       "        vertical-align: middle;\n",
       "    }\n",
       "\n",
       "    .dataframe tbody tr th {\n",
       "        vertical-align: top;\n",
       "    }\n",
       "\n",
       "    .dataframe thead th {\n",
       "        text-align: right;\n",
       "    }\n",
       "</style>\n",
       "<table border=\"1\" class=\"dataframe\">\n",
       "  <thead>\n",
       "    <tr style=\"text-align: right;\">\n",
       "      <th></th>\n",
       "      <th>STATION</th>\n",
       "      <th>NAME</th>\n",
       "      <th>LATITUDE</th>\n",
       "      <th>LONGITUDE</th>\n",
       "      <th>ELEVATION</th>\n",
       "      <th>DATE</th>\n",
       "      <th>DAPR</th>\n",
       "      <th>DAPR_ATTRIBUTES</th>\n",
       "      <th>DASF</th>\n",
       "      <th>DASF_ATTRIBUTES</th>\n",
       "      <th>...</th>\n",
       "      <th>WT09</th>\n",
       "      <th>WT09_ATTRIBUTES</th>\n",
       "      <th>WT11</th>\n",
       "      <th>WT11_ATTRIBUTES</th>\n",
       "      <th>WT14</th>\n",
       "      <th>WT14_ATTRIBUTES</th>\n",
       "      <th>WT16</th>\n",
       "      <th>WT16_ATTRIBUTES</th>\n",
       "      <th>WT18</th>\n",
       "      <th>WT18_ATTRIBUTES</th>\n",
       "    </tr>\n",
       "  </thead>\n",
       "  <tbody>\n",
       "    <tr>\n",
       "      <th>0</th>\n",
       "      <td>USC00420072</td>\n",
       "      <td>ALTA, UT US</td>\n",
       "      <td>40.59058</td>\n",
       "      <td>-111.63703</td>\n",
       "      <td>2654.8</td>\n",
       "      <td>1905-03-17</td>\n",
       "      <td>NaN</td>\n",
       "      <td>NaN</td>\n",
       "      <td>NaN</td>\n",
       "      <td>NaN</td>\n",
       "      <td>...</td>\n",
       "      <td>NaN</td>\n",
       "      <td>NaN</td>\n",
       "      <td>NaN</td>\n",
       "      <td>NaN</td>\n",
       "      <td>NaN</td>\n",
       "      <td>NaN</td>\n",
       "      <td>NaN</td>\n",
       "      <td>NaN</td>\n",
       "      <td>NaN</td>\n",
       "      <td>NaN</td>\n",
       "    </tr>\n",
       "    <tr>\n",
       "      <th>1</th>\n",
       "      <td>USC00420072</td>\n",
       "      <td>ALTA, UT US</td>\n",
       "      <td>40.59058</td>\n",
       "      <td>-111.63703</td>\n",
       "      <td>2654.8</td>\n",
       "      <td>1905-03-18</td>\n",
       "      <td>NaN</td>\n",
       "      <td>NaN</td>\n",
       "      <td>NaN</td>\n",
       "      <td>NaN</td>\n",
       "      <td>...</td>\n",
       "      <td>NaN</td>\n",
       "      <td>NaN</td>\n",
       "      <td>NaN</td>\n",
       "      <td>NaN</td>\n",
       "      <td>NaN</td>\n",
       "      <td>NaN</td>\n",
       "      <td>NaN</td>\n",
       "      <td>NaN</td>\n",
       "      <td>NaN</td>\n",
       "      <td>NaN</td>\n",
       "    </tr>\n",
       "    <tr>\n",
       "      <th>2</th>\n",
       "      <td>USC00420072</td>\n",
       "      <td>ALTA, UT US</td>\n",
       "      <td>40.59058</td>\n",
       "      <td>-111.63703</td>\n",
       "      <td>2654.8</td>\n",
       "      <td>1905-03-19</td>\n",
       "      <td>NaN</td>\n",
       "      <td>NaN</td>\n",
       "      <td>NaN</td>\n",
       "      <td>NaN</td>\n",
       "      <td>...</td>\n",
       "      <td>NaN</td>\n",
       "      <td>NaN</td>\n",
       "      <td>NaN</td>\n",
       "      <td>NaN</td>\n",
       "      <td>NaN</td>\n",
       "      <td>NaN</td>\n",
       "      <td>NaN</td>\n",
       "      <td>NaN</td>\n",
       "      <td>NaN</td>\n",
       "      <td>NaN</td>\n",
       "    </tr>\n",
       "    <tr>\n",
       "      <th>3</th>\n",
       "      <td>USC00420072</td>\n",
       "      <td>ALTA, UT US</td>\n",
       "      <td>40.59058</td>\n",
       "      <td>-111.63703</td>\n",
       "      <td>2654.8</td>\n",
       "      <td>1905-03-20</td>\n",
       "      <td>NaN</td>\n",
       "      <td>NaN</td>\n",
       "      <td>NaN</td>\n",
       "      <td>NaN</td>\n",
       "      <td>...</td>\n",
       "      <td>NaN</td>\n",
       "      <td>NaN</td>\n",
       "      <td>NaN</td>\n",
       "      <td>NaN</td>\n",
       "      <td>NaN</td>\n",
       "      <td>NaN</td>\n",
       "      <td>NaN</td>\n",
       "      <td>NaN</td>\n",
       "      <td>NaN</td>\n",
       "      <td>NaN</td>\n",
       "    </tr>\n",
       "    <tr>\n",
       "      <th>4</th>\n",
       "      <td>USC00420072</td>\n",
       "      <td>ALTA, UT US</td>\n",
       "      <td>40.59058</td>\n",
       "      <td>-111.63703</td>\n",
       "      <td>2654.8</td>\n",
       "      <td>1905-03-21</td>\n",
       "      <td>NaN</td>\n",
       "      <td>NaN</td>\n",
       "      <td>NaN</td>\n",
       "      <td>NaN</td>\n",
       "      <td>...</td>\n",
       "      <td>NaN</td>\n",
       "      <td>NaN</td>\n",
       "      <td>NaN</td>\n",
       "      <td>NaN</td>\n",
       "      <td>NaN</td>\n",
       "      <td>NaN</td>\n",
       "      <td>NaN</td>\n",
       "      <td>NaN</td>\n",
       "      <td>NaN</td>\n",
       "      <td>NaN</td>\n",
       "    </tr>\n",
       "  </tbody>\n",
       "</table>\n",
       "<p>5 rows × 54 columns</p>\n",
       "</div>"
      ],
      "text/plain": [
       "       STATION         NAME  LATITUDE  LONGITUDE  ELEVATION        DATE  DAPR  \\\n",
       "0  USC00420072  ALTA, UT US  40.59058 -111.63703     2654.8  1905-03-17   NaN   \n",
       "1  USC00420072  ALTA, UT US  40.59058 -111.63703     2654.8  1905-03-18   NaN   \n",
       "2  USC00420072  ALTA, UT US  40.59058 -111.63703     2654.8  1905-03-19   NaN   \n",
       "3  USC00420072  ALTA, UT US  40.59058 -111.63703     2654.8  1905-03-20   NaN   \n",
       "4  USC00420072  ALTA, UT US  40.59058 -111.63703     2654.8  1905-03-21   NaN   \n",
       "\n",
       "  DAPR_ATTRIBUTES  DASF DASF_ATTRIBUTES  ...  WT09 WT09_ATTRIBUTES  WT11  \\\n",
       "0             NaN   NaN             NaN  ...   NaN             NaN   NaN   \n",
       "1             NaN   NaN             NaN  ...   NaN             NaN   NaN   \n",
       "2             NaN   NaN             NaN  ...   NaN             NaN   NaN   \n",
       "3             NaN   NaN             NaN  ...   NaN             NaN   NaN   \n",
       "4             NaN   NaN             NaN  ...   NaN             NaN   NaN   \n",
       "\n",
       "  WT11_ATTRIBUTES  WT14 WT14_ATTRIBUTES  WT16 WT16_ATTRIBUTES  WT18  \\\n",
       "0             NaN   NaN             NaN   NaN             NaN   NaN   \n",
       "1             NaN   NaN             NaN   NaN             NaN   NaN   \n",
       "2             NaN   NaN             NaN   NaN             NaN   NaN   \n",
       "3             NaN   NaN             NaN   NaN             NaN   NaN   \n",
       "4             NaN   NaN             NaN   NaN             NaN   NaN   \n",
       "\n",
       "  WT18_ATTRIBUTES  \n",
       "0             NaN  \n",
       "1             NaN  \n",
       "2             NaN  \n",
       "3             NaN  \n",
       "4             NaN  \n",
       "\n",
       "[5 rows x 54 columns]"
      ]
     },
     "execution_count": 13,
     "metadata": {},
     "output_type": "execute_result"
    }
   ],
   "source": [
    "test_df.head()"
   ]
  }
 ],
 "metadata": {
  "kernelspec": {
   "display_name": "zoomcamp-venv",
   "language": "python",
   "name": "python3"
  },
  "language_info": {
   "codemirror_mode": {
    "name": "ipython",
    "version": 3
   },
   "file_extension": ".py",
   "mimetype": "text/x-python",
   "name": "python",
   "nbconvert_exporter": "python",
   "pygments_lexer": "ipython3",
   "version": "3.11.0"
  }
 },
 "nbformat": 4,
 "nbformat_minor": 2
}
